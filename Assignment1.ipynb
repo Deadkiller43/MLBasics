{
  "nbformat": 4,
  "nbformat_minor": 0,
  "metadata": {
    "colab": {
      "provenance": [],
      "collapsed_sections": [
        "O-Nl8LkXygPd",
        "F70bvaKw5DfJ"
      ],
      "toc_visible": true,
      "authorship_tag": "ABX9TyOfVDuLrWcZrwICLa5Jz/Hb",
      "include_colab_link": true
    },
    "kernelspec": {
      "name": "python3",
      "display_name": "Python 3"
    },
    "language_info": {
      "name": "python"
    }
  },
  "cells": [
    {
      "cell_type": "markdown",
      "metadata": {
        "id": "view-in-github",
        "colab_type": "text"
      },
      "source": [
        "<a href=\"https://colab.research.google.com/github/Deadkiller43/MLBasics/blob/main/Assignment1.ipynb\" target=\"_parent\"><img src=\"https://colab.research.google.com/assets/colab-badge.svg\" alt=\"Open In Colab\"/></a>"
      ]
    },
    {
      "cell_type": "markdown",
      "source": [
        "#**Assignment1**"
      ],
      "metadata": {
        "id": "BD1l2TVCxv1P"
      }
    },
    {
      "cell_type": "markdown",
      "source": [
        "##1. Perform arithmetic operations on NumPy arrays"
      ],
      "metadata": {
        "id": "O-Nl8LkXygPd"
      }
    },
    {
      "cell_type": "code",
      "source": [
        "import numpy as np\n",
        "a = np.array([[1,2,3],[3,4,5]])\n",
        "b = np.array([[5,6,7],[7,8,9]])\n",
        "# There are both ways to do operation 1. By using operator symbol  2. By using function\n",
        "print(a + b)\n",
        "#print(np.add(a, b))\n",
        "print(a - b)\n",
        "#print(np.subtract(a, b))\n",
        "print(a * b)\n",
        "#print(np.multiply(a, b))\n",
        "print(a / b)\n",
        "#print(np.divide(a, b))\n",
        "print(a ** b)\n",
        "#print(np.power(a, b))\n",
        "print(b % a)\n",
        "#print(np.mod(b, a))\n",
        "print(np.sqrt(a))\n",
        "print(np.exp(b))\n",
        "print(np.log(a))\n",
        "x = np.array([[1,2],[3,4]])\n",
        "y = np.array([[5,6],[7,8]])\n",
        "print(x.dot(y))\n",
        "#print(x @ y)\n",
        "print(np.sum(a))\n",
        "print(np.sum(a, axis=0))\n",
        "print(np.sum(a, axis=1))"
      ],
      "metadata": {
        "colab": {
          "base_uri": "https://localhost:8080/"
        },
        "id": "a4pG2DhIyk8D",
        "outputId": "29aaf539-7453-4e0e-c0ed-49ae08042b19"
      },
      "execution_count": 28,
      "outputs": [
        {
          "output_type": "stream",
          "name": "stdout",
          "text": [
            "[[ 6  8 10]\n",
            " [10 12 14]]\n",
            "[[-4 -4 -4]\n",
            " [-4 -4 -4]]\n",
            "[[ 5 12 21]\n",
            " [21 32 45]]\n",
            "[[0.2        0.33333333 0.42857143]\n",
            " [0.42857143 0.5        0.55555556]]\n",
            "[[      1      64    2187]\n",
            " [   2187   65536 1953125]]\n",
            "[[0 0 1]\n",
            " [1 0 4]]\n",
            "[[1.         1.41421356 1.73205081]\n",
            " [1.73205081 2.         2.23606798]]\n",
            "[[ 148.4131591   403.42879349 1096.63315843]\n",
            " [1096.63315843 2980.95798704 8103.08392758]]\n",
            "[[0.         0.69314718 1.09861229]\n",
            " [1.09861229 1.38629436 1.60943791]]\n",
            "[[19 22]\n",
            " [43 50]]\n",
            "18\n",
            "[4 6 8]\n",
            "[ 6 12]\n"
          ]
        }
      ]
    },
    {
      "cell_type": "markdown",
      "source": [
        "##2. Write a script to compute the mean and standard deviation of a NumPy array."
      ],
      "metadata": {
        "id": "F70bvaKw5DfJ"
      }
    },
    {
      "cell_type": "code",
      "source": [
        "a = np.array([[1,2,3],[3,4,5]])\n",
        "b = np.array([[5,6,7],[7,8,9]])\n",
        "print(np.mean(a))\n",
        "print(np.std(a))\n",
        "print(np.mean(b))\n",
        "print(np.std(b))\n",
        "print(np.mean(a, axis=0, dtype=np.int64))\n",
        "print(np.mean(a, axis=1, dtype=np.int64))\n",
        "print(np.mean(b, axis=0))\n",
        "print(np.mean(b, axis=1))\n",
        "print(np.std(a, axis=0))\n",
        "print(np.std(a, axis=1))\n",
        "print(np.std(b, axis=0))\n",
        "print(np.std(b, axis=1))"
      ],
      "metadata": {
        "colab": {
          "base_uri": "https://localhost:8080/"
        },
        "id": "hE_Nzdg_5LVb",
        "outputId": "8c4e26e4-9a4a-46cc-a04d-916b4e500cc7"
      },
      "execution_count": 29,
      "outputs": [
        {
          "output_type": "stream",
          "name": "stdout",
          "text": [
            "3.0\n",
            "1.2909944487358056\n",
            "7.0\n",
            "1.2909944487358056\n",
            "[2 3 4]\n",
            "[2 4]\n",
            "[6. 7. 8.]\n",
            "[6. 8.]\n",
            "[1. 1. 1.]\n",
            "[0.81649658 0.81649658]\n",
            "[1. 1. 1.]\n",
            "[0.81649658 0.81649658]\n"
          ]
        }
      ]
    },
    {
      "cell_type": "markdown",
      "source": [
        "##3. Create a NumPy array of integers from 10 to 50 with a step size of 5."
      ],
      "metadata": {
        "id": "kqgHzpj_Ap9n"
      }
    },
    {
      "cell_type": "code",
      "source": [
        "c = np.array(range(10, 50, 5))\n",
        "print(c)\n",
        "print(type(c))"
      ],
      "metadata": {
        "colab": {
          "base_uri": "https://localhost:8080/"
        },
        "id": "7WsNTufaA_Ot",
        "outputId": "9206e068-b716-4e0c-8067-4d0d642bd606"
      },
      "execution_count": 34,
      "outputs": [
        {
          "output_type": "stream",
          "name": "stdout",
          "text": [
            "[10 15 20 25 30 35 40 45]\n",
            "<class 'numpy.ndarray'>\n"
          ]
        }
      ]
    },
    {
      "cell_type": "markdown",
      "source": [
        "##4. Reshape the array into a 2x4 matrix."
      ],
      "metadata": {
        "id": "VQH6v3j6Dxf6"
      }
    },
    {
      "cell_type": "code",
      "source": [
        "d = c.reshape(2,4)\n",
        "print(d)"
      ],
      "metadata": {
        "colab": {
          "base_uri": "https://localhost:8080/"
        },
        "id": "UHViXTS0DzPq",
        "outputId": "ce333fdd-3fcd-4045-821c-02a3ae27e44c"
      },
      "execution_count": 35,
      "outputs": [
        {
          "output_type": "stream",
          "name": "stdout",
          "text": [
            "[[10 15 20 25]\n",
            " [30 35 40 45]]\n"
          ]
        }
      ]
    },
    {
      "cell_type": "markdown",
      "source": [
        "##5. Given the array arr = np.array([[1, 2, 3], [4, 5, 6], [7, 8, 9]]):\n",
        "• Extract the sub-matrix containing the last two rows and first two columns.\n"
      ],
      "metadata": {
        "id": "5khHGgY_FWhP"
      }
    },
    {
      "cell_type": "code",
      "source": [
        "arr = np.array([[1, 2, 3], [4, 5, 6], [7, 8, 9]])\n",
        "arr1 = arr[1:3, 0:2]\n",
        "print(arr1)"
      ],
      "metadata": {
        "colab": {
          "base_uri": "https://localhost:8080/"
        },
        "id": "tKSmn9e_FktY",
        "outputId": "b7d33280-44bb-4286-beba-869edf2d277e"
      },
      "execution_count": 38,
      "outputs": [
        {
          "output_type": "stream",
          "name": "stdout",
          "text": [
            "[[4 5]\n",
            " [7 8]]\n"
          ]
        }
      ]
    },
    {
      "cell_type": "markdown",
      "source": [
        "• Replace all elements greater than 4 with 0.\n"
      ],
      "metadata": {
        "id": "h5d23rV_HEwB"
      }
    },
    {
      "cell_type": "code",
      "source": [
        "arr[arr > 4] = 0\n",
        "print(arr)"
      ],
      "metadata": {
        "colab": {
          "base_uri": "https://localhost:8080/"
        },
        "id": "WrjysXz3HUXh",
        "outputId": "f916480c-f0b2-4946-f135-e0c9984472c1"
      },
      "execution_count": 40,
      "outputs": [
        {
          "output_type": "stream",
          "name": "stdout",
          "text": [
            "[[1 2 3]\n",
            " [4 0 0]\n",
            " [0 0 0]]\n"
          ]
        }
      ]
    },
    {
      "cell_type": "markdown",
      "source": [
        "##6. Create two 1D arrays:\n",
        "##• a = np.array([1, 2, 3])\n",
        "##• b = np.array([4, 5, 6])\n",
        "• Perform element-wise addition, multiplication, and division"
      ],
      "metadata": {
        "id": "0UlhoboqIam9"
      }
    },
    {
      "cell_type": "code",
      "source": [
        "a = np.array([1, 2, 3])\n",
        "b = np.array([4, 5, 6])\n",
        "print(a + 5)\n",
        "print(a  - 1)\n",
        "print(b / 2)"
      ],
      "metadata": {
        "colab": {
          "base_uri": "https://localhost:8080/"
        },
        "id": "FCaFqsZfIj9p",
        "outputId": "5cb4dfb7-8435-4250-d72e-4ff06841a02e"
      },
      "execution_count": 45,
      "outputs": [
        {
          "output_type": "stream",
          "name": "stdout",
          "text": [
            "[6 7 8]\n",
            "[0 1 2]\n",
            "[2.  2.5 3. ]\n"
          ]
        }
      ]
    },
    {
      "cell_type": "markdown",
      "source": [
        "##7. Create a random NumPy array of size (4, 4). Compute:\n",
        "• Mean of each column.\n",
        "• Maximum value of the entire array.\n",
        "• Sum of all elements"
      ],
      "metadata": {
        "id": "u2lUCAcMJBDS"
      }
    },
    {
      "cell_type": "code",
      "source": [
        "ran = np.random.random((4, 4))\n",
        "print(np.mean(ran, axis=0))\n",
        "print(np.max(ran))\n",
        "print(np.sum(ran))"
      ],
      "metadata": {
        "colab": {
          "base_uri": "https://localhost:8080/"
        },
        "id": "vToarCdnJH6V",
        "outputId": "beca67a9-4848-4aa8-aff9-0861f2885b34"
      },
      "execution_count": 51,
      "outputs": [
        {
          "output_type": "stream",
          "name": "stdout",
          "text": [
            "[0.58136082 0.66090688 0.54667441 0.44742934]\n",
            "0.9929765901039719\n",
            "8.94548580000638\n"
          ]
        }
      ]
    },
    {
      "cell_type": "markdown",
      "source": [
        "##8. Given the array arr = np.array([1, 2, 3, 4]), add 10 to each element and multiply the result by 2.\n"
      ],
      "metadata": {
        "id": "RWUx4VkELnSZ"
      }
    },
    {
      "cell_type": "code",
      "source": [
        "arr = np.array([1, 2, 3, 4])\n",
        "add = 10\n",
        "res=(arr + add)\n",
        "print(res)\n",
        "print(res * 2)"
      ],
      "metadata": {
        "colab": {
          "base_uri": "https://localhost:8080/"
        },
        "id": "nkn_swv6LpU2",
        "outputId": "341da667-b3bf-4c43-d6e2-3977f9ce6fab"
      },
      "execution_count": 55,
      "outputs": [
        {
          "output_type": "stream",
          "name": "stdout",
          "text": [
            "[11 12 13 14]\n",
            "[22 24 26 28]\n"
          ]
        }
      ]
    },
    {
      "cell_type": "markdown",
      "source": [
        "##9. Perform advanced slicing and indexing on a 3D array.\n",
        "##Create a 3D NumPy array arr of shape (3, 4, 5) with random integers ranging from\n",
        "##1 to 100. Perform the following:"
      ],
      "metadata": {
        "id": "9ukBvF5-MRRi"
      }
    },
    {
      "cell_type": "code",
      "source": [
        "arr = np.random.randint(1, 100, (3, 4, 5))"
      ],
      "metadata": {
        "colab": {
          "base_uri": "https://localhost:8080/"
        },
        "id": "-C_EKeryMblt",
        "outputId": "01ba855f-129a-457f-d387-7e36593a3dd7"
      },
      "execution_count": 57,
      "outputs": [
        {
          "output_type": "stream",
          "name": "stdout",
          "text": [
            "[[[83 19 19 92 56]\n",
            "  [ 3 89 10 60 18]\n",
            "  [86 68 34 95 22]\n",
            "  [14 96 73 37 49]]\n",
            "\n",
            " [[92 97 32 47 34]\n",
            "  [10 84 27  7 46]\n",
            "  [63 33 71 67 74]\n",
            "  [61 82  6 80 28]]\n",
            "\n",
            " [[76 51 39 13 18]\n",
            "  [17 96 59  4 24]\n",
            "  [84 56  5 69 18]\n",
            "  [11 88  7 37 73]]]\n"
          ]
        }
      ]
    },
    {
      "cell_type": "markdown",
      "source": [
        "• Extract the second \"layer\" (i.e., the second 2D array) in the first dimension."
      ],
      "metadata": {
        "id": "_uyErmkSNHJJ"
      }
    },
    {
      "cell_type": "code",
      "source": [
        "print(arr[1:2, :])"
      ],
      "metadata": {
        "colab": {
          "base_uri": "https://localhost:8080/"
        },
        "id": "2AqbQYyBNPoE",
        "outputId": "9f278700-4fe6-4a90-98c7-453699ea2142"
      },
      "execution_count": 60,
      "outputs": [
        {
          "output_type": "stream",
          "name": "stdout",
          "text": [
            "[[[92 97 32 47 34]\n",
            "  [10 84 27  7 46]\n",
            "  [63 33 71 67 74]\n",
            "  [61 82  6 80 28]]]\n"
          ]
        }
      ]
    },
    {
      "cell_type": "markdown",
      "source": [
        "• Extract the first two rows and the last three columns from each \"layer.\"\n"
      ],
      "metadata": {
        "id": "0nL1SNzrN0PV"
      }
    },
    {
      "cell_type": "code",
      "source": [
        "print(arr[0:3, 0:2, 2:5])"
      ],
      "metadata": {
        "colab": {
          "base_uri": "https://localhost:8080/"
        },
        "id": "CmDLUuMbN30e",
        "outputId": "845d3fa7-2b97-49c2-fa50-93b735179bc2"
      },
      "execution_count": 62,
      "outputs": [
        {
          "output_type": "stream",
          "name": "stdout",
          "text": [
            "[[[19 92 56]\n",
            "  [10 60 18]]\n",
            "\n",
            " [[32 47 34]\n",
            "  [27  7 46]]\n",
            "\n",
            " [[39 13 18]\n",
            "  [59  4 24]]]\n"
          ]
        }
      ]
    },
    {
      "cell_type": "markdown",
      "source": [
        "• Replace all elements divisible by 3 with -1."
      ],
      "metadata": {
        "id": "6MaRz963OPsO"
      }
    },
    {
      "cell_type": "code",
      "source": [
        "arr[arr % 3 == 0] = -1\n",
        "print(arr)"
      ],
      "metadata": {
        "colab": {
          "base_uri": "https://localhost:8080/"
        },
        "id": "sdBT9WzKOULt",
        "outputId": "12b2132b-d1a2-41f1-cae5-e6c5c7d133f4"
      },
      "execution_count": 63,
      "outputs": [
        {
          "output_type": "stream",
          "name": "stdout",
          "text": [
            "[[[83 19 19 92 56]\n",
            "  [-1 89 10 -1 -1]\n",
            "  [86 68 34 95 22]\n",
            "  [14 -1 73 37 49]]\n",
            "\n",
            " [[92 97 32 47 34]\n",
            "  [10 -1 -1  7 46]\n",
            "  [-1 -1 71 67 74]\n",
            "  [61 82 -1 80 28]]\n",
            "\n",
            " [[76 -1 -1 13 -1]\n",
            "  [17 -1 59  4 -1]\n",
            "  [-1 56  5 -1 -1]\n",
            "  [11 88  7 37 73]]]\n"
          ]
        }
      ]
    },
    {
      "cell_type": "markdown",
      "source": [
        "##10. Work with broadcasting and advanced operations in NumPy.\n",
        "##Create a NumPy array arr of shape (3, 3) with random integers between\n",
        "##1 and 20. Perform the following:\n"
      ],
      "metadata": {
        "id": "vkl4UQrhOlcY"
      }
    },
    {
      "cell_type": "markdown",
      "source": [
        "• Subtract the mean of each row from its respective elements (row-wise\n",
        "normalization)."
      ],
      "metadata": {
        "id": "QGuOsy-7O45L"
      }
    },
    {
      "cell_type": "code",
      "source": [
        "arr = np.random.randint(1, 20, (3, 3))\n",
        "print(arr)\n",
        "print(arr - arr.mean(axis=1))"
      ],
      "metadata": {
        "colab": {
          "base_uri": "https://localhost:8080/"
        },
        "id": "5cU2KZoCO-l2",
        "outputId": "aa916432-25a2-4328-ee8c-a1ea2fe7365a"
      },
      "execution_count": 67,
      "outputs": [
        {
          "output_type": "stream",
          "name": "stdout",
          "text": [
            "[[ 6  6  6]\n",
            " [10 11 17]\n",
            " [17  4 18]]\n",
            "[[ 0.         -6.66666667 -7.        ]\n",
            " [ 4.         -1.66666667  4.        ]\n",
            " [11.         -8.66666667  5.        ]]\n"
          ]
        }
      ]
    },
    {
      "cell_type": "markdown",
      "source": [
        "• Create a new array by squaring all the elements in arr."
      ],
      "metadata": {
        "id": "UGYZwBtzQfnr"
      }
    },
    {
      "cell_type": "code",
      "source": [
        "newarr = arr ** 2\n",
        "print(newarr)"
      ],
      "metadata": {
        "colab": {
          "base_uri": "https://localhost:8080/"
        },
        "id": "GBtzaItLQlDq",
        "outputId": "38f955e2-0ba6-4c1b-8f35-7abdfcc66f69"
      },
      "execution_count": 68,
      "outputs": [
        {
          "output_type": "stream",
          "name": "stdout",
          "text": [
            "[[ 36  36  36]\n",
            " [100 121 289]\n",
            " [289  16 324]]\n"
          ]
        }
      ]
    },
    {
      "cell_type": "markdown",
      "source": [
        "• Find the indices of the top 3 maximum values in the entire array."
      ],
      "metadata": {
        "id": "0bMJXHR3Qq9k"
      }
    },
    {
      "cell_type": "code",
      "source": [
        "print(np.argsort(arr, axis=None)[-3:])"
      ],
      "metadata": {
        "colab": {
          "base_uri": "https://localhost:8080/"
        },
        "id": "l7GvFskzQwG6",
        "outputId": "3b8e9606-9578-48bf-eb7b-ae0b36b16920"
      },
      "execution_count": 69,
      "outputs": [
        {
          "output_type": "stream",
          "name": "stdout",
          "text": [
            "[5 6 8]\n"
          ]
        }
      ]
    }
  ]
}